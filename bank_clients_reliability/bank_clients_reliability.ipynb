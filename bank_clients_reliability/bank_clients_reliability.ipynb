{
 "cells": [
  {
   "cell_type": "markdown",
   "metadata": {},
   "source": [
    "# <center>Исследование надёжности заёмщиков<center>\n",
    "\n",
    "Заказчик — кредитный отдел банка. Нужно разобраться, влияет ли семейное положение и количество детей клиента на факт погашения кредита в срок. Входные данные от банка — статистика о платёжеспособности клиентов.\n",
    "\n",
    "Результаты исследования будут учтены при построении модели **кредитного скоринга** — специальной системы, которая оценивает способность потенциального заёмщика вернуть кредит банку."
   ]
  },
  {
   "cell_type": "markdown",
   "metadata": {},
   "source": [
    "### 1. Загрузка и изучение данных "
   ]
  },
  {
   "cell_type": "code",
   "execution_count": 1,
   "metadata": {},
   "outputs": [],
   "source": [
    "import pandas as pd\n",
    "import matplotlib.pyplot as plt\n",
    "import seaborn as sns\n",
    "\n",
    "pd.set_option('display.max_columns',20)\n",
    "pd.set_option('display.max_rows',20)"
   ]
  },
  {
   "cell_type": "code",
   "execution_count": 26,
   "metadata": {},
   "outputs": [
    {
     "data": {
      "text/html": [
       "<div>\n",
       "<style scoped>\n",
       "    .dataframe tbody tr th:only-of-type {\n",
       "        vertical-align: middle;\n",
       "    }\n",
       "\n",
       "    .dataframe tbody tr th {\n",
       "        vertical-align: top;\n",
       "    }\n",
       "\n",
       "    .dataframe thead th {\n",
       "        text-align: right;\n",
       "    }\n",
       "</style>\n",
       "<table border=\"1\" class=\"dataframe\">\n",
       "  <thead>\n",
       "    <tr style=\"text-align: right;\">\n",
       "      <th></th>\n",
       "      <th>children</th>\n",
       "      <th>days_employed</th>\n",
       "      <th>dob_years</th>\n",
       "      <th>education</th>\n",
       "      <th>education_id</th>\n",
       "      <th>family_status</th>\n",
       "      <th>family_status_id</th>\n",
       "      <th>gender</th>\n",
       "      <th>income_type</th>\n",
       "      <th>debt</th>\n",
       "      <th>total_income</th>\n",
       "      <th>purpose</th>\n",
       "    </tr>\n",
       "  </thead>\n",
       "  <tbody>\n",
       "    <tr>\n",
       "      <td>0</td>\n",
       "      <td>1</td>\n",
       "      <td>-8437.673028</td>\n",
       "      <td>42</td>\n",
       "      <td>высшее</td>\n",
       "      <td>0</td>\n",
       "      <td>женат / замужем</td>\n",
       "      <td>0</td>\n",
       "      <td>F</td>\n",
       "      <td>сотрудник</td>\n",
       "      <td>0</td>\n",
       "      <td>253875.639453</td>\n",
       "      <td>покупка жилья</td>\n",
       "    </tr>\n",
       "    <tr>\n",
       "      <td>1</td>\n",
       "      <td>1</td>\n",
       "      <td>-4024.803754</td>\n",
       "      <td>36</td>\n",
       "      <td>среднее</td>\n",
       "      <td>1</td>\n",
       "      <td>женат / замужем</td>\n",
       "      <td>0</td>\n",
       "      <td>F</td>\n",
       "      <td>сотрудник</td>\n",
       "      <td>0</td>\n",
       "      <td>112080.014102</td>\n",
       "      <td>приобретение автомобиля</td>\n",
       "    </tr>\n",
       "    <tr>\n",
       "      <td>2</td>\n",
       "      <td>0</td>\n",
       "      <td>-5623.422610</td>\n",
       "      <td>33</td>\n",
       "      <td>Среднее</td>\n",
       "      <td>1</td>\n",
       "      <td>женат / замужем</td>\n",
       "      <td>0</td>\n",
       "      <td>M</td>\n",
       "      <td>сотрудник</td>\n",
       "      <td>0</td>\n",
       "      <td>145885.952297</td>\n",
       "      <td>покупка жилья</td>\n",
       "    </tr>\n",
       "    <tr>\n",
       "      <td>3</td>\n",
       "      <td>3</td>\n",
       "      <td>-4124.747207</td>\n",
       "      <td>32</td>\n",
       "      <td>среднее</td>\n",
       "      <td>1</td>\n",
       "      <td>женат / замужем</td>\n",
       "      <td>0</td>\n",
       "      <td>M</td>\n",
       "      <td>сотрудник</td>\n",
       "      <td>0</td>\n",
       "      <td>267628.550329</td>\n",
       "      <td>дополнительное образование</td>\n",
       "    </tr>\n",
       "    <tr>\n",
       "      <td>4</td>\n",
       "      <td>0</td>\n",
       "      <td>340266.072047</td>\n",
       "      <td>53</td>\n",
       "      <td>среднее</td>\n",
       "      <td>1</td>\n",
       "      <td>гражданский брак</td>\n",
       "      <td>1</td>\n",
       "      <td>F</td>\n",
       "      <td>пенсионер</td>\n",
       "      <td>0</td>\n",
       "      <td>158616.077870</td>\n",
       "      <td>сыграть свадьбу</td>\n",
       "    </tr>\n",
       "  </tbody>\n",
       "</table>\n",
       "</div>"
      ],
      "text/plain": [
       "   children  days_employed  dob_years education  education_id  \\\n",
       "0         1   -8437.673028         42    высшее             0   \n",
       "1         1   -4024.803754         36   среднее             1   \n",
       "2         0   -5623.422610         33   Среднее             1   \n",
       "3         3   -4124.747207         32   среднее             1   \n",
       "4         0  340266.072047         53   среднее             1   \n",
       "\n",
       "      family_status  family_status_id gender income_type  debt   total_income  \\\n",
       "0   женат / замужем                 0      F   сотрудник     0  253875.639453   \n",
       "1   женат / замужем                 0      F   сотрудник     0  112080.014102   \n",
       "2   женат / замужем                 0      M   сотрудник     0  145885.952297   \n",
       "3   женат / замужем                 0      M   сотрудник     0  267628.550329   \n",
       "4  гражданский брак                 1      F   пенсионер     0  158616.077870   \n",
       "\n",
       "                      purpose  \n",
       "0               покупка жилья  \n",
       "1     приобретение автомобиля  \n",
       "2               покупка жилья  \n",
       "3  дополнительное образование  \n",
       "4             сыграть свадьбу  "
      ]
     },
     "metadata": {},
     "output_type": "display_data"
    },
    {
     "name": "stdout",
     "output_type": "stream",
     "text": [
      "<class 'pandas.core.frame.DataFrame'>\n",
      "RangeIndex: 21525 entries, 0 to 21524\n",
      "Data columns (total 12 columns):\n",
      "children            21525 non-null int64\n",
      "days_employed       19351 non-null float64\n",
      "dob_years           21525 non-null int64\n",
      "education           21525 non-null object\n",
      "education_id        21525 non-null int64\n",
      "family_status       21525 non-null object\n",
      "family_status_id    21525 non-null int64\n",
      "gender              21525 non-null object\n",
      "income_type         21525 non-null object\n",
      "debt                21525 non-null int64\n",
      "total_income        19351 non-null float64\n",
      "purpose             21525 non-null object\n",
      "dtypes: float64(2), int64(5), object(5)\n",
      "memory usage: 2.0+ MB\n"
     ]
    }
   ],
   "source": [
    "data_bank = pd.read_csv('/datasets/data.csv')\n",
    "display(data_bank.head())\n",
    "data_bank.info()"
   ]
  },
  {
   "cell_type": "code",
   "execution_count": 3,
   "metadata": {},
   "outputs": [
    {
     "name": "stdout",
     "output_type": "stream",
     "text": [
      "---  Кол-во детей в семье  ---\n",
      " 0     14149\n",
      " 1      4818\n",
      " 2      2055\n",
      " 3       330\n",
      " 20       76\n",
      "-1        47\n",
      " 4        41\n",
      " 5         9\n",
      "Name: children, dtype: int64\n",
      "---  Отрицательный и нулевой стаж  ---\n",
      "15906\n",
      "---  Незаполенный стаж  ---\n",
      "2174\n",
      "---  Отрицательный и нулевой доход  ---\n",
      "0\n",
      "---  Незаполенный доход  ---\n",
      "2174\n",
      "---  Незаполенный доход и стаж ---\n",
      "2174\n",
      "---  Возраст менее 14 лет  ---\n",
      "101\n",
      "---  Возраст более 14 лет по группам  ---\n",
      "35    617\n",
      "40    609\n",
      "41    607\n",
      "34    603\n",
      "38    598\n",
      "     ... \n",
      "72     33\n",
      "19     14\n",
      "73      8\n",
      "74      6\n",
      "75      1\n",
      "Name: dob_years, Length: 57, dtype: int64\n",
      "---  Образование  ---\n",
      "среднее                13750\n",
      "высшее                  4718\n",
      "СРЕДНЕЕ                  772\n",
      "Среднее                  711\n",
      "неоконченное высшее      668\n",
      "ВЫСШЕЕ                   274\n",
      "Высшее                   268\n",
      "начальное                250\n",
      "Неоконченное высшее       47\n",
      "НЕОКОНЧЕННОЕ ВЫСШЕЕ       29\n",
      "НАЧАЛЬНОЕ                 17\n",
      "Начальное                 15\n",
      "ученая степень             4\n",
      "УЧЕНАЯ СТЕПЕНЬ             1\n",
      "Ученая степень             1\n",
      "Name: education, dtype: int64\n",
      "1    15233\n",
      "0     5260\n",
      "2      744\n",
      "3      282\n",
      "4        6\n",
      "Name: education_id, dtype: int64\n",
      "---  Семейное положение  ---\n",
      "женат / замужем          12380\n",
      "гражданский брак          4177\n",
      "Не женат / не замужем     2813\n",
      "в разводе                 1195\n",
      "вдовец / вдова             960\n",
      "Name: family_status, dtype: int64\n",
      "0    12380\n",
      "1     4177\n",
      "4     2813\n",
      "3     1195\n",
      "2      960\n",
      "Name: family_status_id, dtype: int64\n",
      "---  Пол  ---\n",
      "F      14236\n",
      "M       7288\n",
      "XNA        1\n",
      "Name: gender, dtype: int64\n",
      "---  Тип занятости  ---\n",
      "сотрудник          11119\n",
      "компаньон           5085\n",
      "пенсионер           3856\n",
      "госслужащий         1459\n",
      "предприниматель        2\n",
      "безработный            2\n",
      "в декрете              1\n",
      "студент                1\n",
      "Name: income_type, dtype: int64\n",
      "---  Задолженность  ---\n",
      "0    19784\n",
      "1     1741\n",
      "Name: debt, dtype: int64\n",
      "---  Цель получения кредита  ---\n",
      "свадьба                              797\n",
      "на проведение свадьбы                777\n",
      "сыграть свадьбу                      774\n",
      "операции с недвижимостью             676\n",
      "покупка коммерческой недвижимости    664\n",
      "                                    ... \n",
      "образование                          447\n",
      "получение образования                443\n",
      "профильное образование               436\n",
      "получение высшего образования        426\n",
      "заняться образованием                412\n",
      "Name: purpose, Length: 38, dtype: int64\n",
      "---  Отсутствует ли стаж по группам занятости  ---\n",
      "сотрудник          1105\n",
      "компаньон           508\n",
      "пенсионер           413\n",
      "госслужащий         147\n",
      "предприниматель       1\n",
      "Name: income_type, dtype: int64\n"
     ]
    }
   ],
   "source": [
    "#просмотрим данные для выявления артефактов\n",
    "print(\"---  Кол-во детей в семье  ---\")\n",
    "print(data_bank[\"children\"].value_counts()) \n",
    "print(\"---  Отрицательный и нулевой стаж  ---\")\n",
    "print(data_bank[data_bank[\"days_employed\"] <= 0][\"days_employed\"].count())\n",
    "print(\"---  Незаполенный стаж  ---\")\n",
    "print(data_bank[data_bank[\"days_employed\"].isnull()][\"children\"].count())\n",
    "print(\"---  Отрицательный и нулевой доход  ---\")\n",
    "print(data_bank[data_bank[\"total_income\"] <= 0][\"total_income\"].count())\n",
    "print(\"---  Незаполенный доход  ---\")\n",
    "print(data_bank[data_bank[\"total_income\"].isnull()][\"children\"].count())\n",
    "print(\"---  Незаполенный доход и стаж ---\")\n",
    "no_income = data_bank[data_bank[\"total_income\"].isnull()]\n",
    "print(no_income[no_income[\"days_employed\"].isnull()][\"children\"].count())\n",
    "print(\"---  Возраст менее 14 лет  ---\")\n",
    "print(data_bank[data_bank[\"dob_years\"] <= 14][\"dob_years\"].count())\n",
    "print(\"---  Возраст более 14 лет по группам  ---\")\n",
    "print(data_bank[data_bank[\"dob_years\"] > 14][\"dob_years\"].value_counts())\n",
    "print(\"---  Образование  ---\")\n",
    "print(data_bank[\"education\"].value_counts()) \n",
    "print(data_bank[\"education_id\"].value_counts()) \n",
    "print(\"---  Семейное положение  ---\")\n",
    "print(data_bank[\"family_status\"].value_counts()) \n",
    "print(data_bank[\"family_status_id\"].value_counts()) \n",
    "print(\"---  Пол  ---\")\n",
    "print(data_bank[\"gender\"].value_counts()) \n",
    "print(\"---  Тип занятости  ---\")\n",
    "print(data_bank[\"income_type\"].value_counts()) \n",
    "print(\"---  Задолженность  ---\")\n",
    "print(data_bank[\"debt\"].value_counts()) \n",
    "print(\"---  Цель получения кредита  ---\")\n",
    "print(data_bank[\"purpose\"].value_counts()) \n",
    "print(\"---  Отсутствует ли стаж по группам занятости  ---\")\n",
    "print(data_bank[data_bank[\"days_employed\"].isnull()][\"income_type\"].value_counts())"
   ]
  },
  {
   "cell_type": "markdown",
   "metadata": {},
   "source": [
    "### Вывод"
   ]
  },
  {
   "cell_type": "markdown",
   "metadata": {},
   "source": [
    "Первым этапом моего проекта является изучение и анализ информации, предоставленной заказчиком. Из общей информации по файлу видно, что перед нами таблица из 21525 записей, состоящая из 12 именованных столбцов. \n",
    "Перечень выявленных задач для предобработки данных:\n",
    "\n",
    "- В столбце \"children\" (количество детей) содержатся артефакты: 20 детей и (-1). Принято решение удалить.\n",
    "- В столбцах \"days_employed\" (общий трудовой стаж в днях) и \"total_income\" (ежемесячный доход) содержатся пропуски. Это пропуски в количественных переменных. При этом легко подсчитать, что отсутствует около 9% информации, которую не хотелось бы удалять. Сразу бросается в глаза, что в этих столбцах содержится одинаковое количество ненулевых строк. Сделав ряд срезов, я выявила, что 2174 строки содержат пропущенные значения одновременно в \"days_employed\" и \"total_income\". \n",
    " Также в \"days_employed\" значения преимущественно имеют отрицательное значение. Этот факт я связываю с человеческим фактором и неправильным форматом ввода данных. Принято решение применить к данным столбца метод модуля abs().\n",
    " Отсутствие информации считаю неслучайным, но так как она не влияет на результат поставленной задачи принято решение в столбце \"days_employed\" пустые значения заменить нулями, а в \"total_income\" вместо пустых значений внести медиану по типу занятости.\n",
    "- В столбцае \"dob_years\" найдена 101 запись со значением 0. Принято решение удалить.\n",
    "- В столбце \"education\" необходимо поработать с дубликатами.\n",
    "- В столбцах \"family_status\" и \"family_status_id\" все нормально.\n",
    "- В \"gender\" одна запись без указания пола. Принято решение удалить.\n",
    "- В \"income_type\" \"debt\"все благополучно.\n",
    "- В \"purpose\" необходимо произвести лемматизацию.\n",
    "\n"
   ]
  },
  {
   "cell_type": "markdown",
   "metadata": {},
   "source": [
    "### 2. Предобработка данных"
   ]
  },
  {
   "cell_type": "markdown",
   "metadata": {},
   "source": [
    "### Обработка пропусков"
   ]
  },
  {
   "cell_type": "code",
   "execution_count": 4,
   "metadata": {},
   "outputs": [
    {
     "name": "stdout",
     "output_type": "stream",
     "text": [
      "(21402, 12)\n",
      "(21302, 12)\n",
      "(21301, 12)\n",
      "0\n",
      "0\n",
      "---  Отрицательный и нулевой доход  ---\n",
      "0\n",
      "---  Незаполенный доход  ---\n",
      "0\n"
     ]
    }
   ],
   "source": [
    "#Удалим записи с некорректным количеством детей у заемщиков\n",
    "data_bank = data_bank[(data_bank[\"children\"] != (-1))&(data_bank[\"children\"] != 20)] \n",
    "print(data_bank.shape)\n",
    "#Удалим записи с некорректным возрастом заемщиков\n",
    "data_bank = data_bank[(data_bank[\"dob_years\"] >= 14)]\n",
    "print(data_bank.shape)\n",
    "#Удалим запись с неопределенным полом заемщика.\n",
    "data_bank = data_bank[(data_bank[\"gender\"] == \"F\")|(data_bank[\"gender\"] == \"M\")]\n",
    "print(data_bank.shape)\n",
    "#Исправляем отрицательный \"стаж\".\n",
    "data_bank[\"days_employed\"] = data_bank[\"days_employed\"].abs()\n",
    "#Заполняем пустоты в \"стаже\" нулями.\n",
    "data_bank[\"days_employed\"] = data_bank[\"days_employed\"].fillna(0)\n",
    "#Сделаем проверку.\n",
    "print(data_bank[data_bank[\"days_employed\"] < 0][\"days_employed\"].count())\n",
    "print(data_bank[data_bank[\"days_employed\"].isnull()][\"children\"].count())\n",
    "\n",
    "#Функция расчитывает медиану дохода для конкретной категории занятости и\n",
    "#записывает полученное значение в пустые поля данной группы.\n",
    "\n",
    "def fill_total (data, it):\n",
    "    med = data[(data[\"income_type\" ] == it)&(~data[\"total_income\"].isnull())][\"total_income\"].median()\n",
    "    data.loc[data[\"income_type\"] == it, 'total_income'] = data.loc[data[\"income_type\" ] == it, 'total_income'].fillna(med)\n",
    "    return data\n",
    "\n",
    "data_bank = fill_total(data_bank, \"госслужащий\")\n",
    "data_bank = fill_total(data_bank, \"сотрудник\")\n",
    "data_bank = fill_total(data_bank, \"компаньон\")\n",
    "data_bank = fill_total(data_bank, \"пенсионер\")\n",
    "data_bank = fill_total(data_bank, \"в декрете\")\n",
    "data_bank = fill_total(data_bank, \"студент\")\n",
    "data_bank = fill_total(data_bank, \"предприниматель\")\n",
    "data_bank = fill_total(data_bank, \"безработный\")\n",
    "\n",
    "#Проверка\n",
    "print(\"---  Отрицательный и нулевой доход  ---\")\n",
    "print(data_bank[data_bank[\"total_income\"] <= 0][\"total_income\"].count())\n",
    "print(\"---  Незаполенный доход  ---\")\n",
    "print(data_bank[data_bank[\"total_income\"].isnull()][\"children\"].count())\n"
   ]
  },
  {
   "cell_type": "markdown",
   "metadata": {},
   "source": [
    "### Вывод"
   ]
  },
  {
   "cell_type": "markdown",
   "metadata": {},
   "source": [
    "Некоторые строки были удалены, так как их количество мало и нет возможности восстановить отсутствующие данные.\n",
    "Для заполения неизвестных значений \"дохода\" была написана функция, вычисляющая среднее значение дохода для данной категории заемщиков."
   ]
  },
  {
   "cell_type": "markdown",
   "metadata": {},
   "source": [
    "### Замена типа данных"
   ]
  },
  {
   "cell_type": "code",
   "execution_count": 5,
   "metadata": {},
   "outputs": [
    {
     "name": "stdout",
     "output_type": "stream",
     "text": [
      "<class 'pandas.core.frame.DataFrame'>\n",
      "Int64Index: 21301 entries, 0 to 21524\n",
      "Data columns (total 12 columns):\n",
      "children            21301 non-null int64\n",
      "days_employed       21301 non-null int64\n",
      "dob_years           21301 non-null int64\n",
      "education           21301 non-null object\n",
      "education_id        21301 non-null int64\n",
      "family_status       21301 non-null object\n",
      "family_status_id    21301 non-null int64\n",
      "gender              21301 non-null object\n",
      "income_type         21301 non-null object\n",
      "debt                21301 non-null int64\n",
      "total_income        21301 non-null float64\n",
      "purpose             21301 non-null object\n",
      "dtypes: float64(1), int64(6), object(5)\n",
      "memory usage: 2.1+ MB\n",
      "None\n"
     ]
    }
   ],
   "source": [
    "data_bank[\"days_employed\"] = data_bank[\"days_employed\"].astype(\"int\")\n",
    "print(data_bank.info())"
   ]
  },
  {
   "cell_type": "markdown",
   "metadata": {},
   "source": [
    "### Вывод"
   ]
  },
  {
   "cell_type": "markdown",
   "metadata": {},
   "source": [
    "В столбце \"days_employed\"(стаж в днях), имеющим первоначально вещественный тип, была произведена замена на целый тип с применением метода astype(). Это сделано для упрощения восприятия информации о стаже в днях. В данном случае точность информации не влияет на результат поставленной задачи."
   ]
  },
  {
   "cell_type": "markdown",
   "metadata": {},
   "source": [
    "### Обработка дубликатов"
   ]
  },
  {
   "cell_type": "code",
   "execution_count": 28,
   "metadata": {},
   "outputs": [
    {
     "name": "stdout",
     "output_type": "stream",
     "text": [
      "среднее                15233\n",
      "высшее                  5260\n",
      "неоконченное высшее      744\n",
      "начальное                282\n",
      "ученая степень             6\n",
      "Name: education, dtype: int64\n",
      "Кол-во удаляемых дубликатов: 71\n"
     ]
    }
   ],
   "source": [
    "data_bank[\"education\"] =data_bank[\"education\"].str.lower()\n",
    "print(data_bank[\"education\"].value_counts())\n",
    "#Проверим наличие дубликатов и удалим, если имеются.\n",
    "dup_count = data_bank.duplicated().sum()\n",
    "print(\"Кол-во удаляемых дубликатов:\", dup_count)\n",
    "data_bank = data_bank.drop_duplicates().reset_index(drop = True)"
   ]
  },
  {
   "cell_type": "markdown",
   "metadata": {},
   "source": [
    "### Вывод"
   ]
  },
  {
   "cell_type": "markdown",
   "metadata": {},
   "source": [
    "Для обнаружения дубликатов в столбце \"education\"(образование) был использован метод value_counts(). В результате было выявлено, что названия уровня образования набраны в разном регистре. Для исправления ситуации и удаления дубликатов был использован метод str.lower(). Возможная причина возникновения дубликатов - человеческий фактор. Методом data_bank.duplicated() была найдена 71 строка полностью, совподающая с другими. Было произведено удаление дубликатов методом drop_duplicates()."
   ]
  },
  {
   "cell_type": "markdown",
   "metadata": {},
   "source": [
    "### Лемматизация"
   ]
  },
  {
   "cell_type": "code",
   "execution_count": 7,
   "metadata": {},
   "outputs": [
    {
     "name": "stdout",
     "output_type": "stream",
     "text": [
      "недвижимость    10125\n",
      "автомобиль       4267\n",
      "образование      3979\n",
      "свадьба          2323\n",
      "ремонт жилья      607\n",
      "Name: purpose_lem, dtype: int64\n"
     ]
    }
   ],
   "source": [
    "from pymystem3 import Mystem\n",
    "m = Mystem()\n",
    "\n",
    "#Функция лемматизации строки\n",
    "def lemma_row (row):\n",
    "    lemmas = m.lemmatize(row)\n",
    "   \n",
    "    if \"ремонт\" in  lemmas:\n",
    "        return \"ремонт жилья\"\n",
    "    elif (\"недвижимость\" in  lemmas)|(\"жилье\" in  lemmas):\n",
    "        return \"недвижимость\"\n",
    "    elif \"свадьба\" in  lemmas:\n",
    "        return \"свадьба\"\n",
    "    elif \"автомобиль\" in  lemmas:\n",
    "        return \"автомобиль\"\n",
    "    elif \"образование\" in  lemmas:\n",
    "        return \"образование\"\n",
    "    else:\n",
    "        return \"неизвестная категория\"\n",
    "    \n",
    "data_bank[\"purpose_lem\"] = data_bank[\"purpose\"].apply(lemma_row )\n",
    "print(data_bank[\"purpose_lem\"].value_counts())"
   ]
  },
  {
   "cell_type": "markdown",
   "metadata": {},
   "source": [
    "### Вывод"
   ]
  },
  {
   "cell_type": "markdown",
   "metadata": {},
   "source": [
    "Все цели в представленной заказчиком таблице были обьединены в пять групп с помощью процесса лемматизации. В данном пункте лемматизация совмещена с категоризацией и затем данные сохранены в дополнительный столбец \"purpose_lem\"."
   ]
  },
  {
   "cell_type": "markdown",
   "metadata": {},
   "source": [
    "### Категоризация данных"
   ]
  },
  {
   "cell_type": "code",
   "execution_count": 8,
   "metadata": {},
   "outputs": [
    {
     "name": "stdout",
     "output_type": "stream",
     "text": [
      "1    8134\n",
      "2    7334\n",
      "3    4271\n",
      "0    1562\n",
      "Name: income_group_med, dtype: int64\n"
     ]
    }
   ],
   "source": [
    "#Категоризация по наличию детей у заемщика: 1 - имеет, 0 -не имеет.\n",
    "def have_children (cnt):\n",
    "    if cnt > 0:\n",
    "        return 1\n",
    "    else: \n",
    "        return 0\n",
    "data_bank[\"have_children\"] = data_bank[\"children\"].apply(have_children)\n",
    "\n",
    "#Категоризация по уровню дохода\n",
    "min_income = data_bank[\"total_income\"].min()\n",
    "max_income = data_bank[\"total_income\"].max()\n",
    "med_income = data_bank[\"total_income\"].median()\n",
    "#avg_income = data_bank[\"total_income\"].sum() / data_bank[\"total_income\"].count()\n",
    "\n",
    "# Функция категоризации на 4 группы с использанием медианы значения дохода\n",
    "# 0 - доход ниже половины медианы\n",
    "# 1 - доход от половины медианы и до целой медианы\n",
    "# 2 - доход от медианы до 1,5 медианы\n",
    "# 3 - доход выше 1,5 медианы\n",
    "def income_category_med(income):\n",
    "    global med_income\n",
    "    if income < med_income / 2:\n",
    "        return 0\n",
    "    elif income < med_income:\n",
    "        return 1\n",
    "    elif income < med_income + med_income / 2:\n",
    "        return 2\n",
    "    else:\n",
    "        return 3\n",
    "\n",
    "data_bank[\"income_group_med\"] = data_bank[\"total_income\"].apply(income_category_med)\n",
    "print(data_bank[\"income_group_med\"].value_counts())\n",
    "\n",
    "\n"
   ]
  },
  {
   "cell_type": "markdown",
   "metadata": {},
   "source": [
    "### Вывод"
   ]
  },
  {
   "cell_type": "markdown",
   "metadata": {},
   "source": [
    "Задача категоризации заемщиков по количеству детей очень проста, т.к. в задании необходимо определить влияние наличия детей на кредитную историю, т.е. необходимо разделить заемщиков на две группы - есть дети или нет.\n",
    "Для категоризации заемщиков по уровню дохода можно использовать медианное значение дохода в качестве вспомогательной величины. Предлагается разделить всех заемщиков на 4 группы. Как и следовало ожидать, в группы с наименьшим и наибольшим доходом попало \n",
    "меньше людей, чем в средние две группы. Но при этом группы 0 и 3 достаточно велики, чтобы можно было сделать по ним выводы."
   ]
  },
  {
   "cell_type": "markdown",
   "metadata": {},
   "source": [
    "### 3. Исследование обработанных данных"
   ]
  },
  {
   "cell_type": "markdown",
   "metadata": {},
   "source": [
    "- Есть ли зависимость между наличием детей и возвратом кредита в срок?"
   ]
  },
  {
   "cell_type": "code",
   "execution_count": 9,
   "metadata": {},
   "outputs": [
    {
     "name": "stdout",
     "output_type": "stream",
     "text": [
      "---Зависимость между наличием детей и возвратом кредита в срок---\n",
      "                Вернувшие  Невернувшие  Всего  Доля должников,%\n",
      "не имеют детей      13021         1058  14079          7.514738\n",
      "имеют детей          6556          666   7222          9.221822\n"
     ]
    }
   ],
   "source": [
    "pivot_child = data_bank.pivot_table(index=['have_children'], columns=['debt'], values='gender', aggfunc='count')\n",
    "pivot_child.set_axis([\"Вернувшие\",\"Невернувшие\"],axis = \"columns\", inplace =  True)\n",
    "pivot_child.set_axis([\"не имеют детей\",\"имеют детей\"],axis = \"index\",inplace =  True)\n",
    "pivot_child['Всего'] = pivot_child[\"Вернувшие\"] + pivot_child[\"Невернувшие\"]\n",
    "pivot_child['Доля должников,%'] = pivot_child[\"Невернувшие\"]/pivot_child['Всего']*100\n",
    "print(\"---Зависимость между наличием детей и возвратом кредита в срок---\")\n",
    "print(pivot_child)"
   ]
  },
  {
   "cell_type": "code",
   "execution_count": 31,
   "metadata": {},
   "outputs": [
    {
     "data": {
      "image/png": "[encoded data removed]",
      "text/plain": [
       "<Figure size 360x360 with 1 Axes>"
      ]
     },
     "metadata": {
      "needs_background": "light"
     },
     "output_type": "display_data"
    }
   ],
   "source": [
    "plt.figure(figsize=(5, 5))\n",
    "sns.barplot(pivot_child.index, pivot_child['Доля должников,%'])\n",
    "plt.title(\"Зависимость между наличием детей и возвратом кредита в срок\", fontsize=24)\n",
    "\n",
    "plt.ylabel('Доля должников,%', fontsize=20)\n",
    "\n",
    "plt.xticks(rotation=90,fontsize=12)\n",
    "plt.yticks(fontsize=12)\n",
    "plt.show()"
   ]
  },
  {
   "cell_type": "markdown",
   "metadata": {},
   "source": [
    "### Вывод"
   ]
  },
  {
   "cell_type": "markdown",
   "metadata": {},
   "source": [
    "Мы получили близкие значения. Можно сказать, что наличие детей незначительно влияет на возврат кредита. Причем вероятность задолжности заемщиков с детьми повышается на 1,7%. "
   ]
  },
  {
   "cell_type": "markdown",
   "metadata": {},
   "source": [
    "- Есть ли зависимость между семейным положением и возвратом кредита в срок?"
   ]
  },
  {
   "cell_type": "code",
   "execution_count": 10,
   "metadata": {},
   "outputs": [
    {
     "name": "stdout",
     "output_type": "stream",
     "text": [
      "---Зависимость между семейным положением и возвратом кредита в срок---\n",
      "                      Вернувшие  Невернувшие  Всего  Доля должников,%\n",
      "женатые/замужние          11331          923  12254          7.532234\n",
      "гражданский брак           3755          383   4138          9.255679\n",
      "вдовы/вдовцы                885           62    947          6.546990\n",
      "в разводе                  1095           84   1179          7.124682\n",
      "неженатые/незамужние       2511          272   2783          9.773626\n"
     ]
    }
   ],
   "source": [
    "pivot_family_status = data_bank.pivot_table(index=[\"family_status_id\"], columns=['debt'], values='gender', aggfunc='count')\n",
    "pivot_family_status.set_axis([\"Вернувшие\",\"Невернувшие\"],axis = \"columns\", inplace =  True)\n",
    "pivot_family_status.set_axis([\"женатые/замужние\",\"гражданский брак\",\"вдовы/вдовцы\",\"в разводе\",\"неженатые/незамужние\"]\n",
    "                             ,axis = \"index\", inplace =  True)\n",
    "pivot_family_status['Всего'] = pivot_family_status[\"Вернувшие\"] + pivot_family_status[\"Невернувшие\"]\n",
    "pivot_family_status[\"Доля должников,%\"] = pivot_family_status[\"Невернувшие\"]/pivot_family_status['Всего']*100\n",
    "print(\"---Зависимость между семейным положением и возвратом кредита в срок---\")\n",
    "print(pivot_family_status)"
   ]
  },
  {
   "cell_type": "code",
   "execution_count": 32,
   "metadata": {},
   "outputs": [
    {
     "data": {
      "image/png": "[encoded data removed]",
      "text/plain": [
       "<Figure size 360x360 with 1 Axes>"
      ]
     },
     "metadata": {
      "needs_background": "light"
     },
     "output_type": "display_data"
    }
   ],
   "source": [
    "plt.figure(figsize=(5, 5))\n",
    "sns.barplot(pivot_family_status.index, pivot_family_status['Доля должников,%'])\n",
    "plt.title(\"Зависимость между семейным положением и возвратом кредита в срок\", fontsize=24)\n",
    "\n",
    "plt.ylabel('Доля должников,%', fontsize=20)\n",
    "\n",
    "plt.xticks(rotation=90,fontsize=12)\n",
    "plt.yticks(fontsize=12)\n",
    "plt.show()"
   ]
  },
  {
   "cell_type": "markdown",
   "metadata": {},
   "source": [
    "### Вывод\n",
    "Есть зависимость между семейным положением и возвратом кредита в срок, но разрыв по данным небольшой. Самые дисциплинированные вдовы и вдовцы: 6.5% невозврата. А самый больший процент по невозврату кредитов у неженатых или незамужних заемщиков: 9.8%."
   ]
  },
  {
   "cell_type": "markdown",
   "metadata": {},
   "source": [
    "- Есть ли зависимость между уровнем дохода и возвратом кредита в срок?"
   ]
  },
  {
   "cell_type": "code",
   "execution_count": 11,
   "metadata": {},
   "outputs": [
    {
     "name": "stdout",
     "output_type": "stream",
     "text": [
      "---Зависимость между уровнем дохода и возвратом кредита в срок---\n",
      "                     Вернувшие  Невернувшие  Всего  Доля должников,%\n",
      "минимальный доход         1453          109   1562          6.978233\n",
      "доход ниже среднего       7438          696   8134          8.556676\n",
      "доход выше среднего       6717          617   7334          8.412872\n",
      "высокий доход             3969          302   4271          7.070944\n"
     ]
    }
   ],
   "source": [
    "pivot_income = data_bank.pivot_table(index=[\"income_group_med\"], columns=['debt'], values='gender', aggfunc='count')\n",
    "pivot_income.set_axis([\"Вернувшие\",\"Невернувшие\"],axis = \"columns\", inplace =  True)\n",
    "pivot_income.set_axis([\"минимальный доход\",\"доход ниже среднего\",\"доход выше среднего\",\"высокий доход\"],axis = \"index\", inplace =  True)\n",
    "pivot_income['Всего'] = pivot_income[\"Вернувшие\"] + pivot_income[\"Невернувшие\"]\n",
    "pivot_income[\"Доля должников,%\"] = pivot_income[\"Невернувшие\"]/pivot_income['Всего']*100\n",
    "print(\"---Зависимость между уровнем дохода и возвратом кредита в срок---\")\n",
    "print(pivot_income)\n"
   ]
  },
  {
   "cell_type": "code",
   "execution_count": 25,
   "metadata": {},
   "outputs": [
    {
     "data": {
      "image/png": "[encoded data removed]",
      "text/plain": [
       "<Figure size 360x360 with 1 Axes>"
      ]
     },
     "metadata": {
      "needs_background": "light"
     },
     "output_type": "display_data"
    }
   ],
   "source": [
    "plt.figure(figsize=(5, 5))\n",
    "sns.barplot(pivot_income.index, pivot_income['Доля должников,%'])\n",
    "plt.title(\"Зависимость между уровнем дохода и возвратом кредита в срок\", fontsize=24)\n",
    "\n",
    "plt.ylabel('Доля должников,%', fontsize=20)\n",
    "\n",
    "plt.xticks(rotation=90,fontsize=12)\n",
    "plt.yticks(fontsize=12)\n",
    "plt.show()"
   ]
  },
  {
   "cell_type": "markdown",
   "metadata": {},
   "source": [
    "### Вывод"
   ]
  },
  {
   "cell_type": "markdown",
   "metadata": {},
   "source": [
    "Очевидно, что уровень дохода влияет на кредитную историю. Самыми дисциплинированными являются заемщики с минимальным и максимальным доходом, а люди со средним доходом попадают в должники чаще."
   ]
  },
  {
   "cell_type": "markdown",
   "metadata": {},
   "source": [
    "- Как разные цели кредита влияют на его возврат в срок?"
   ]
  },
  {
   "cell_type": "code",
   "execution_count": 13,
   "metadata": {},
   "outputs": [
    {
     "name": "stdout",
     "output_type": "stream",
     "text": [
      "---Зависимость между целями кредита и возвратом кредита в срок---\n",
      "              Вернувшие  Невернувшие  Всего  Доля должников,%\n",
      "purpose_lem                                                  \n",
      "автомобиль         3870          397   4267          9.303961\n",
      "недвижимость       9383          742  10125          7.328395\n",
      "образование        3610          369   3979          9.273687\n",
      "ремонт жилья        572           35    607          5.766063\n",
      "свадьба            2142          181   2323          7.791649\n"
     ]
    }
   ],
   "source": [
    "pivot_purp = data_bank.pivot_table(index=[\"purpose_lem\"], columns=['debt'], values='gender', aggfunc='count')\n",
    "pivot_purp.set_axis([\"Вернувшие\",\"Невернувшие\"],axis = \"columns\", inplace =  True)\n",
    "\n",
    "pivot_purp['Всего'] = pivot_purp[\"Вернувшие\"] + pivot_purp[\"Невернувшие\"]\n",
    "pivot_purp[\"Доля должников,%\"] = pivot_purp[\"Невернувшие\"]/pivot_purp['Всего']*100\n",
    "print(\"---Зависимость между целями кредита и возвратом кредита в срок---\")\n",
    "print(pivot_purp)"
   ]
  },
  {
   "cell_type": "markdown",
   "metadata": {},
   "source": [
    "### Вывод"
   ]
  },
  {
   "cell_type": "markdown",
   "metadata": {},
   "source": [
    "Видим, что самые дисциплинированные заемщики, взявшие кредит на ремон жилья: 5.8% невозврата. А самый большой процент невозврата кредитов на автомобили и образование."
   ]
  },
  {
   "cell_type": "markdown",
   "metadata": {},
   "source": [
    "### 4. Общий вывод"
   ]
  },
  {
   "cell_type": "markdown",
   "metadata": {},
   "source": [
    "Итак, подтвердилась гипотеза о существовании зависимости между семейным положением, количеством детей, целями кредита, уровнем дохода и вероятностью возникновения просрочки. Самыми благонадежными оказались вдовы(вдовцы), не имеющие детей, с небольшим уровнем дохода, взявшие кредит на ремонт жилья. Наибольший риск просрочки возникает у заемщиков, не состоящих в браке, со средним уровнем дохода, взявшие кредит на покупку автомобиля или обучение.\n",
    "В целом, вероятность попадания заемщика в должники колеблется от 6% до 10%. Эту информацию необходимо учитывать банкам при разработке своей кредитной политики. Например, процент по автокредиту целесообразно сделать выше, чем по кредиту на покупку недвижимости."
   ]
  }
 ],
 "metadata": {
  "kernelspec": {
   "display_name": "Python 3",
   "language": "python",
   "name": "python3"
  },
  "language_info": {
   "codemirror_mode": {
    "name": "ipython",
    "version": 3
   },
   "file_extension": ".py",
   "mimetype": "text/x-python",
   "name": "python",
   "nbconvert_exporter": "python",
   "pygments_lexer": "ipython3",
   "version": "3.7.6"
  }
 },
 "nbformat": 4,
 "nbformat_minor": 2
}
